{
 "cells": [
  {
   "cell_type": "markdown",
   "metadata": {},
   "source": [
    "<h1 class=\"titre\">Codage binaire des nombres entiers positifs</h1>"
   ]
  },
  {
   "cell_type": "markdown",
   "metadata": {},
   "source": [
    "Les nombres utilisés au quotidien sont écrits en base $10$ dite décimale. \n",
    "\n",
    "On a besoin de 10 chiffres $0$, $1$, $2$, $3$, $4$, $5$, $6$, $7$, $8$ et $9$.\n",
    "\n",
    "Le nombre $1273$ est écrit en base $10$ et se décompose alors:\n",
    "\n",
    "\\begin{align*}\n",
    "1273 &= 1000+200+70+3\\\\\n",
    "\\phantom{1273} &= 1\\times 10^{3}+2\\times10^{2}+7\\times10^{1}+3\\times10^{0}\n",
    "\\end{align*}\n",
    "\n",
    "\n",
    "En informatique, les données sont codées en base $2$ dite binaire.\n",
    "\n",
    "On a besoin de 2 chiffres : le $1$ et le $0$ qui correspondent aux états *allumé* et *éteint* ou *on* et *off*.  \n",
    "Ces deux chiffres sont appelés des \\textbf{bits}.\n",
    "\n",
    "Le nombre $1273$ peut s'écrire en base 2 en le décomposant ainsi:\n",
    "\\begin{align*}\n",
    "1273 &= 1024+128+64+32+16+8+1\\\\\n",
    "\\phantom{1273} &= 2^{10}+2^{7}+2^{6}+2^{5}+2^{4}+2^{3}+2^{0}\\\\\n",
    "1273_{10} &= 10011111001_{2}\n",
    "\\end{align*}\n",
    "\n",
    "#### Remarque\n",
    "\n",
    "1. La décomposition n'utilise que des puissances du nombre $2$;\n",
    "2. Les coefficients sont soit $0$ lorsqu'il n'y a pas de puissance de 2, soit $1$ lorsqu'il y a une puissance de $2$.\n",
    "3. Le nombre $1273$ en base 2 est codé sur $11$ bits.   \n",
    "Le bit situé à droite ($2^{0}$) est de dit de **poids faible**, le bit situé à gauche ($2^{10}$) est dit de **poids fort**.\n",
    "\n",
    "# Conversion\n",
    "\n",
    "## De binaire à décimal\n",
    "\n",
    "Chaque bit d'un nombre codé en binaire est associé à une puissance de 2.  \n",
    "Si on considère le nombre codé en binaire $1011001$.   \n",
    "On peut associer à chaque bit sa puissance de 2 en commençant par le bit de poids faible.\n",
    "\n",
    "|$2^6$|$2^5$|$2^4$|$2^3$|$2^2$|$2^1$|$2^0$|\n",
    "|:---:|:---:|:---:|:---:|:---:|:---:|:---:|\n",
    "|$1$|$0$|$1$|$1$|$0$|$0$|$1$|\n",
    "\n",
    "On obtient alors:  \n",
    "\\begin{align*}\n",
    "1011001_2 &= 2^6+2^4+ 2^3+2^0\\\\\n",
    "1011001_2 &= 64+16+8+1\\\\\n",
    "1011001_2 &= 89_{10}\n",
    "\\end{align*}\n",
    "\n",
    "## De décimal à binaire\n",
    "\n",
    "On peut utiliser 2 méthodes pour effectuer cette conversion. Soit par soustraction successives des puissances de 2, soit par divisions successives.\n",
    "\n",
    "### Soustractions successives\n",
    "\n",
    "Cherchons à convertir le nombre entier $325$.\n",
    "\n",
    "|$2^{10}$|$2^9$|$2^8$|$2^7$|$2^6$|$2^5$|$2^4$|$2^3$|$2^2$|$2^1$|$2^0$|\n",
    "|:---:|:---:|:---:|:---:|:---:|:---:|:---:|:---:|:---:|:---:|:---:|\n",
    "|$1024$|$512$|$256$|$128$|$64$|$32$|$16$|$8$|$4$|$2$|$1$|\n",
    "\n",
    "La plus grande puissance de 2 que l'ont peut soustraire à $325$ est $2^8=256$ : $325-256=69$  \n",
    "La plus grande puissance de 2 que l'ont peut soustraire à $69$ est $64$ : $69-64=5$  \n",
    "La plus grande puissance de 2 que l'ont peut soustraire à $5$ est $4$ : $5-4=1$  \n",
    "La plus grande puissance de 2 que l'ont peut soustraire à $1$ est $1$ : $1-1=0$\n",
    "\n",
    "Donc on en déduit :\n",
    "\n",
    "\\begin{align*}\n",
    "325_{10} &= 256+64+4+1\\\\\n",
    "325_{10} &= 2^8+2^6+2^2+2^0\\\\\n",
    "325_{10} &= 101000101_2\n",
    "\\end{align*}\n",
    "\n",
    "### Divisions successives\n",
    "\n",
    "On divise le nombre à coder par 2 ainsi que chaque quotient obtenu par chaque division jusqu'à obtenir un quotient égal à 1.  \n",
    "La suite des restes des différentes divisions et le dernier quotient sera le nombre codé en binaire. Le dernier quotient égal à 1 sera le bit de poids fort.\n",
    "\n",
    "![Divisions successives](divisions-successives.png)\n",
    "\n",
    "Ici, on retrouve bien le nombre $345_{10}=101000101_2$."
   ]
  },
  {
   "cell_type": "code",
   "execution_count": 4,
   "metadata": {},
   "outputs": [
    {
     "data": {
      "text/plain": [
       "85"
      ]
     },
     "execution_count": 4,
     "metadata": {},
     "output_type": "execute_result"
    }
   ],
   "source": [
    "1010101"
   ]
  },
  {
   "cell_type": "code",
   "execution_count": null,
   "metadata": {},
   "outputs": [],
   "source": []
  }
 ],
 "metadata": {
  "kernelspec": {
   "display_name": "Python 3",
   "language": "python",
   "name": "python3"
  },
  "language_info": {
   "codemirror_mode": {
    "name": "ipython",
    "version": 3
   },
   "file_extension": ".py",
   "mimetype": "text/x-python",
   "name": "python",
   "nbconvert_exporter": "python",
   "pygments_lexer": "ipython3",
   "version": "3.7.4"
  },
  "latex_envs": {
   "LaTeX_envs_menu_present": true,
   "autoclose": false,
   "autocomplete": true,
   "bibliofile": "biblio.bib",
   "cite_by": "apalike",
   "current_citInitial": 1,
   "eqLabelWithNumbers": true,
   "eqNumInitial": 1,
   "hotkeys": {
    "equation": "Ctrl-E",
    "itemize": "Ctrl-I"
   },
   "labels_anchors": false,
   "latex_user_defs": false,
   "report_style_numbering": false,
   "user_envs_cfg": false
  }
 },
 "nbformat": 4,
 "nbformat_minor": 2
}
