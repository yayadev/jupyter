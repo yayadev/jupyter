{
 "cells": [
  {
   "cell_type": "markdown",
   "metadata": {},
   "source": [
    "<h1 class=\"titre\">Structure de données</h1>"
   ]
  },
  {
   "cell_type": "markdown",
   "metadata": {},
   "source": [
    "## Les variables en python\n",
    "\n",
    "### Déclaration\n",
    "\n",
    "En langage informatique, une variable est un espace de stockage, un espace mémoire.\n",
    "\n",
    "La variable peut être nommée (déclarée) par une seule lettre, un mot de plusieurs lettres ou une combinaison alphanumérique. \n",
    "\n",
    "#### Exemples:\n",
    "\n",
    "1. **a** est une variable,\n",
    "2. **var** est une variable,\n",
    "3. **a7e** est une variable (cette déclaration est à éviter si possible).\n",
    "4. **var1** et **var2** sont deux variables (ceci permet de différencier des variables dans un même contexte).\n",
    "\n",
    "\n",
    "### Affectation\n",
    "\n",
    "Donner une valeur à une variable est une **affectation**. \n",
    "En python, l'affectation se fait avec le signe mathématique égal **=**.\n",
    "\n",
    "Les variables ont un **type** différent selon la valeur qui lui est donnée. Une variable peut représenter un nombre entier ou à virgule, un booléen, une chaine de caractères ou un groupe de valeurs rassemblées en une liste ou un tableau.\n",
    "\n",
    "En python, le type d'une variable peut changer selon le contexte. Une variable peut être un nombre puis devenir une chaine de caractères ou inversement.\n",
    "\n",
    "---"
   ]
  },
  {
   "cell_type": "markdown",
   "metadata": {},
   "source": [
    "## Type simple de variables python\n",
    "\n",
    "La fonction \"type\" est une fonction en python qui permet de connaître le **type** d'une variable."
   ]
  },
  {
   "cell_type": "markdown",
   "metadata": {},
   "source": [
    "### Type numérique\n",
    "\n",
    "En python, une variable peut désigner un nombre entier ou un nombre flottant (nombre réel en mathématiques). Il existe aussi les nombres complexes (nombres vus en classe de terminale).\n",
    "\n",
    "#### Exemples:\n",
    "\n",
    "    a=5\n",
    "    b=3.7\n",
    "    type(a) -> int (nombre entier)\n",
    "    type(b) -> float (nombre réel)\n",
    "    type(a+b) -> float (nombre réel l'emporte sur l'entier)\n"
   ]
  },
  {
   "cell_type": "code",
   "execution_count": 76,
   "metadata": {},
   "outputs": [
    {
     "data": {
      "text/plain": [
       "(int, float, float)"
      ]
     },
     "execution_count": 76,
     "metadata": {},
     "output_type": "execute_result"
    }
   ],
   "source": [
    "a=5\n",
    "b=3.7\n",
    "type(a),type(b),type(a+b)"
   ]
  },
  {
   "cell_type": "markdown",
   "metadata": {},
   "source": [
    "En python, il existe en plus des opérateurs méthématiques comme la somme (+), la différence (-), le produit (\\*) et le quotient (/) des opérateurs dont le résultat souhaité dépendra du type numérique voulu en résultat.\n",
    "\n",
    "Par exemple, le quotient donne un résultat réel, donc un flottant. On peut souhaiter un résultat entier en quotient, avoir le reste entier de la division. Voici ces opérateurs à connaître.\n",
    "\n",
    "|Opérateur python|Opération mathématique|\n",
    "|:--------------:|:--------------------:|\n",
    "|x+y|somme de x et y|\n",
    "|x-y|différence de x et y|\n",
    "|x\\*y|produit de x et y|\n",
    "|x/y|quotient de x par y|\n",
    "|x//y|quotient entier de la division de x par y|\n",
    "|x%y|reste entier de la division de x par y|\n",
    "|-x|opposé de x|\n",
    "|abs(x)|valeur absolue de x|\n",
    "|int(x)|partie entière de x|\n",
    "|float(x)|conversion de x en flottant|\n",
    "|divmod(x,y)|couple de la division euclidienne(quotient,reste)|\n",
    "|x\\*\\*y|x à la puissance y|"
   ]
  },
  {
   "cell_type": "markdown",
   "metadata": {},
   "source": [
    "### Type booléen\n",
    "\n",
    "Une variable de type booléen prend 2 valeurs possibles : **True** (vrai) ou **False** (faux).\n",
    "\n",
    "Ces deux valeurs, True ou False sont notées aussi 1 pour **True** ou 0 pour **False**.\n",
    "\n",
    "Il existe des opérateurs pour les varibles de type booléens appelés **opérateurs logiques**. Ces opérateurs sont le \"ET\" logique, le \"OU\" logique et la négation \"NON\". On rassemble dans une même table, dite table de vérité, les différents résultats de ces opérations logiques.\n",
    "\n",
    "| x | y | not(x) | x or y | x and y |\n",
    "|:-:|:-:|:------:|:------:|:-------:|\n",
    "|$0$|$0$|  $1$   |   $0$  |   $0$   |\n",
    "|$0$|$1$|  $1$   |   $1$  |   $0$   |\n",
    "|$1$|$0$|  $0$   |   $1$  |   $0$   |\n",
    "|$1$|$1$|  $0$   |   $1$  |   $1$   |"
   ]
  },
  {
   "cell_type": "markdown",
   "metadata": {},
   "source": [
    "### Type string\n",
    "\n",
    "Une variable de type string ou chaine de caractères en français est une variable dont la valeur est constitué de lettres, chiffres, espace et de tout caractère alphanumérique et de symboles.\n",
    "\n",
    "L'affectation d'une chaîne de caratère à une variable se fait en notant la chaine entre guillemets (doubles ou simples).\n",
    "#### Exemple\n",
    "\n",
    "    txt1=\"La vie est belle \"\n",
    "    txt2='mais cruelle parfois!'\n",
    "\n",
    "Des variables de type string peuvent être réunies par concaténation. L'opérateur de concaténation est le '+'.\n",
    "#### Exemple\n",
    "\n",
    "    txt=txt1+txt2 \n",
    "    # la variable txt aura pour valeur la chaine \"La vie est belle mais cruelle parfois!\"\n",
    "\n",
    "---"
   ]
  },
  {
   "cell_type": "markdown",
   "metadata": {},
   "source": [
    "## Saisie et affectation d'une variable\n",
    "\n",
    "1. On peut affecter une valeur à une variable en utilisant le signe **=** dans le codage.\n",
    "\n",
    "2. On peut aussi demander la saisie d'une valeur pour une variable donnée. Cela se fait avec la fonction**input()**.\n",
    "\n",
    "#### Exemple:\n",
    "\n",
    "|En python|Commentaires|\n",
    "|:-------:|:-----------|\n",
    "|a=\"texte\"|La variable a est de type string et vaut texte.|\n",
    "|input(\"b=\")|Un texte sera affiché pour la saisie (invite) mais ce n'est pas le nom de la variable !|\n",
    "|a=input(\"Votre nom:\")|Devant le cadre de saisie, l'invite \"Votre nom:\" est affiché. Le nom sera stocké dans la variable a|\n",
    "\n",
    "3. On peut afficher la valeur d'une variable avec la fonction **print()**\n"
   ]
  },
  {
   "cell_type": "code",
   "execution_count": 2,
   "metadata": {},
   "outputs": [
    {
     "name": "stdout",
     "output_type": "stream",
     "text": [
      "La vie est belle et cruelle à la fois!\n"
     ]
    }
   ],
   "source": [
    "a='La vie '\n",
    "b='est belle '\n",
    "c=\"et cruelle à la fois!\"\n",
    "txt=a+b+c\n",
    "print(txt)"
   ]
  },
  {
   "cell_type": "markdown",
   "metadata": {},
   "source": [
    "---\n",
    "## EXERCICES\n",
    "---\n"
   ]
  },
  {
   "cell_type": "markdown",
   "metadata": {},
   "source": [
    "#### Exercice \n",
    "1. Soit a et b deux variables numériques. Comment, éventuellement à l'aide d'autres variables, permuter les valeurs des variables a et b ?\n",
    "2. Imaginer un processus de permutation entre 3 variables a, b et c.\n",
    "3. Est-il possible, en python, de permuter les valeurs de 2 variables sans utiliser d'autres variables ? Et pour 3 variables ?"
   ]
  },
  {
   "cell_type": "markdown",
   "metadata": {},
   "source": [
    "#### Exercice\n",
    "\n",
    "Réaliser toutes les opérations mathématiques (tableau ci-dessus) en langage python avec les variables $x=23$ et $y=7$."
   ]
  },
  {
   "cell_type": "markdown",
   "metadata": {},
   "source": [
    "#### Exercice\n",
    "1. Soit a et b deux variables de type booléen. Donner la table de vérité de not(a ou b) ainsi que not(a) et not(b)."
   ]
  },
  {
   "cell_type": "code",
   "execution_count": 44,
   "metadata": {},
   "outputs": [
    {
     "data": {
      "text/plain": [
       "(5, 7, 3)"
      ]
     },
     "execution_count": 44,
     "metadata": {},
     "output_type": "execute_result"
    }
   ],
   "source": [
    "a=3\n",
    "b=5\n",
    "c=7\n",
    "a,b,c=b,c,a\n",
    "(a,b,c)"
   ]
  },
  {
   "cell_type": "code",
   "execution_count": 40,
   "metadata": {},
   "outputs": [
    {
     "data": {
      "text/plain": [
       "(3, 5)"
      ]
     },
     "execution_count": 40,
     "metadata": {},
     "output_type": "execute_result"
    }
   ],
   "source": [
    "a,b"
   ]
  },
  {
   "cell_type": "code",
   "execution_count": 19,
   "metadata": {},
   "outputs": [
    {
     "data": {
      "text/plain": [
       "25"
      ]
     },
     "execution_count": 19,
     "metadata": {},
     "output_type": "execute_result"
    }
   ],
   "source": [
    "a7e**2"
   ]
  },
  {
   "cell_type": "code",
   "execution_count": 73,
   "metadata": {},
   "outputs": [
    {
     "name": "stdout",
     "output_type": "stream",
     "text": [
      "b=4\n"
     ]
    },
    {
     "data": {
      "text/plain": [
       "16"
      ]
     },
     "execution_count": 73,
     "metadata": {},
     "output_type": "execute_result"
    }
   ],
   "source": [
    "b=(input(\"b=\"))\n",
    "b**2"
   ]
  },
  {
   "cell_type": "code",
   "execution_count": 81,
   "metadata": {},
   "outputs": [],
   "source": [
    "e=9"
   ]
  },
  {
   "cell_type": "code",
   "execution_count": 82,
   "metadata": {},
   "outputs": [
    {
     "name": "stdout",
     "output_type": "stream",
     "text": [
      "9\n"
     ]
    }
   ],
   "source": [
    "print(e)"
   ]
  },
  {
   "cell_type": "code",
   "execution_count": 12,
   "metadata": {},
   "outputs": [
    {
     "name": "stdout",
     "output_type": "stream",
     "text": [
      "jean a 10 ans\n"
     ]
    }
   ],
   "source": [
    "age=10\n",
    "print(\"Jean a %0d ans\" % age)"
   ]
  },
  {
   "cell_type": "code",
   "execution_count": null,
   "metadata": {},
   "outputs": [],
   "source": []
  }
 ],
 "metadata": {
  "kernelspec": {
   "display_name": "Python 3",
   "language": "python",
   "name": "python3"
  },
  "language_info": {
   "codemirror_mode": {
    "name": "ipython",
    "version": 3
   },
   "file_extension": ".py",
   "mimetype": "text/x-python",
   "name": "python",
   "nbconvert_exporter": "python",
   "pygments_lexer": "ipython3",
   "version": "3.5.3"
  },
  "latex_envs": {
   "LaTeX_envs_menu_present": true,
   "autoclose": false,
   "autocomplete": true,
   "bibliofile": "biblio.bib",
   "cite_by": "apalike",
   "current_citInitial": 1,
   "eqLabelWithNumbers": true,
   "eqNumInitial": 1,
   "hotkeys": {
    "equation": "Ctrl-E",
    "itemize": "Ctrl-I"
   },
   "labels_anchors": false,
   "latex_user_defs": false,
   "report_style_numbering": false,
   "user_envs_cfg": false
  }
 },
 "nbformat": 4,
 "nbformat_minor": 2
}
